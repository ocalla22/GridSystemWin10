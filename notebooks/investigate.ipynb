{
 "cells": [
  {
   "cell_type": "markdown",
   "metadata": {},
   "source": [
    "# Investigate Data\n",
    "\n",
    "The goal of this notebook is to inspect the incoming HTML data files the application will ingest. \n",
    "The data will be restructured into a pandas dataframe where we can illustrate how various rules can be applied to racer's timing data to deduce their grid position in the finals.\n",
    "\n",
    "The grids of a race are not solely determined by lap time data. In total there are 3 factors. \n",
    "\n",
    "1. Lap times; the shorter lap times relative to other drivers results in greater overall grid position.\n",
    "\n",
    "\n",
    "2. Overseer's context; the race overseer applies these rules or corrections so that the race data beyond raw timing data. Drivers in breech of regulations will face a time penalty which results in a lower overall grid position.\n",
    "\n",
    "\n",
    "3. Novice Drivers; very inexperienced drivers may be forced to use the novice grid which is behind the main grid for safety. After a few races they can join the main grid or optionally waive their position on the main grid to use the novice grid. \n",
    "\n",
    "\n",
    "## Timing Data\n",
    "The karts have transponders that detect when the driver completes a lap by passing a specified section on the race track. \n",
    "From this, the laptimes are easily extrapolated. \n",
    "The transponder therefore provides a one dimensional view of the racing data.\n",
    "In isolation, the transponder timing data is fallable.\n",
    "For instance, a driver may have artifically low lap times by taking illegal short cuts. \n",
    "Alternatively, the driver may drive in breech of regulations. For example, the combined weight of kart and driver is too low for the weight category. Additional context needs to be superimposed over the timing data to validate or correct it.\n",
    "\n",
    "## Overseer's Context\n",
    "The race overseer applies this additional context to the data. \n",
    "They currate it such that it tells a more complete story of the heats and races. \n",
    "The overseer recieves radio feedback from the marshals and flagman who may report various racing incidents.\n",
    "The overseer can then respond to these racing incidents by applying time penalties, discounting laps or disqualifing drivers.\n",
    "Furthermore, the overseer can communicate with marshels to use flags to communicate to drivers.\n",
    "When karts return the post race/heat checks are performed.\n",
    "The karts are weighed, wheels inspected, fuel is tested and kart nose cones are checked.\n",
    "If there are any failed checks the driver is sanctioned and perhaps a penalty is applied to their time.\n",
    "\n",
    "## Gridman's Manual Handling\n",
    "The curated data is then published and the gridman is responsible to analysing it.\n",
    "Often they determine each racers grid position by hand and record it with pen and paper.\n",
    "This can be prone to human error and leave some drivers disgruntled where they feel they were not placed incorrectly.\n",
    "Furthermore, while setting up the grid, some drivers will choose to waive their current position to start in the Nocice grid.\n",
    "\n",
    "## Correcting for Novice Drivers\n",
    "Some novice drivers who are transitioning to be experienced drivers can join the main grid.\n",
    "They take their rightful position on the main grid, like experienced drivers.\n",
    "Alternatively, they may opt to return to the novice grid and waive their position on the main grid.\n",
    "In that case, they are still placed appropriately relative to other novice drivers. \n",
    "Or for very new drivers it is mandatory that they join the novice grid while aquireing sufficient experience.\n",
    "For these reasons, it's useful to model the overall grid as being composed of two sub grids. \n",
    "\n",
    "1. The main grid; for experienced drivers\n",
    "\n",
    "\n",
    "2. The novive grid; for less experienced drivers who need some more breathing space on track.\n"
   ]
  },
  {
   "cell_type": "markdown",
   "metadata": {},
   "source": [
    "## Import Dependencies"
   ]
  },
  {
   "cell_type": "code",
   "execution_count": 1,
   "metadata": {},
   "outputs": [
    {
     "name": "stdout",
     "output_type": "stream",
     "text": [
      "Hello Again Jupyter\n"
     ]
    }
   ],
   "source": [
    "#Uses these to grab data form file system\n",
    "from os import getcwd, path\n",
    "\n",
    "#Grabs an pandas utilities to read and manipulate the data.\n",
    "from pandas import read_html"
   ]
  },
  {
   "cell_type": "code",
   "execution_count": null,
   "metadata": {},
   "outputs": [],
   "source": []
  }
 ],
 "metadata": {
  "kernelspec": {
   "display_name": "Python 3",
   "language": "python",
   "name": "python3"
  },
  "language_info": {
   "codemirror_mode": {
    "name": "ipython",
    "version": 3
   },
   "file_extension": ".py",
   "mimetype": "text/x-python",
   "name": "python",
   "nbconvert_exporter": "python",
   "pygments_lexer": "ipython3",
   "version": "3.7.8"
  }
 },
 "nbformat": 4,
 "nbformat_minor": 4
}
